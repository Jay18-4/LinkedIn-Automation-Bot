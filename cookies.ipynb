{
 "cells": [
  {
   "cell_type": "code",
   "execution_count": 1,
   "id": "720f5dd8-712e-4f09-b865-9c36ef50d67d",
   "metadata": {},
   "outputs": [],
   "source": [
    "from selenium.webdriver.chrome.service import Service\n",
    "from selenium.webdriver.chrome.options import Options\n",
    "from selenium.webdriver.support.ui import WebDriverWait\n",
    "from selenium.webdriver.support import expected_conditions as EC\n",
    "from selenium import webdriver\n",
    "import time\n",
    "import pickle"
   ]
  },
  {
   "cell_type": "code",
   "execution_count": 3,
   "id": "6312e1ce-b974-4b8d-9629-c1bf88516cc4",
   "metadata": {},
   "outputs": [],
   "source": [
    "driver_path = r\"C:\\Users\\user\\Downloads\\chromedriver-win32\\chromedriver-win32\\chromedriver.exe\" \n",
    "driver = webdriver.Chrome(service=Service(driver_path))\n",
    "url = \"https://www.linkedin.com/login\"\n",
    "def store_cookie():\n",
    "    try:\n",
    "        driver.get(url)\n",
    "        time.sleep(60)\n",
    "        cookies = driver.get_cookies()\n",
    "        pickle.dump(cookies,open(\"linkedin-cookies.pkl\",'wb'))\n",
    "    finally:\n",
    "        driver.quit()\n",
    "\n",
    "store_cookie()\n",
    "time.sleep(60)"
   ]
  },
  {
   "cell_type": "code",
   "execution_count": null,
   "id": "c8079069-2df4-4605-8252-c2746947085d",
   "metadata": {},
   "outputs": [],
   "source": []
  }
 ],
 "metadata": {
  "kernelspec": {
   "display_name": "Python 3 (ipykernel)",
   "language": "python",
   "name": "python3"
  },
  "language_info": {
   "codemirror_mode": {
    "name": "ipython",
    "version": 3
   },
   "file_extension": ".py",
   "mimetype": "text/x-python",
   "name": "python",
   "nbconvert_exporter": "python",
   "pygments_lexer": "ipython3",
   "version": "3.12.4"
  }
 },
 "nbformat": 4,
 "nbformat_minor": 5
}
