{
 "cells": [
  {
   "cell_type": "code",
   "execution_count": 3,
   "id": "c27b376a-3bb6-4ad9-b0d6-c5f8e5f4468b",
   "metadata": {},
   "outputs": [],
   "source": [
    "import json\n",
    "comments_data = {\n",
    "    \"greetings\": [\n",
    "        \"Great post! I absolutely loved\",\n",
    "        \"Awesome article! It was so fascinating to read about\",\n",
    "        \"Interesting update! Your insights on\",\n",
    "    ],\n",
    "    \"topics\": [\n",
    "        \"your journey with machine learning\",\n",
    "        \"how you applied AI techniques in your project\",\n",
    "        \"the latest developments in data science\",\n",
    "    ],\n",
    "    \"details\": [\n",
    "        \"I really enjoyed the part about\",\n",
    "        \"I found the section on\",\n",
    "        \"The way you explained\",\n",
    "    ],\n",
    "    \"specific_details\": [\n",
    "        \"the practical applications of it in this area\",\n",
    "        \"integrating machine learning models into real-world scenarios\",\n",
    "        \"data science trends and their implications for the future\",\n",
    "    ]\n",
    "}\n",
    "with open('comments.json', 'w') as file: json.dump(comments_data, file, indent=4)"
   ]
  },
  {
   "cell_type": "code",
   "execution_count": null,
   "id": "521e91ec-c7e2-4bfa-a589-d4171f9f7566",
   "metadata": {},
   "outputs": [],
   "source": []
  }
 ],
 "metadata": {
  "kernelspec": {
   "display_name": "Python 3 (ipykernel)",
   "language": "python",
   "name": "python3"
  },
  "language_info": {
   "codemirror_mode": {
    "name": "ipython",
    "version": 3
   },
   "file_extension": ".py",
   "mimetype": "text/x-python",
   "name": "python",
   "nbconvert_exporter": "python",
   "pygments_lexer": "ipython3",
   "version": "3.12.4"
  }
 },
 "nbformat": 4,
 "nbformat_minor": 5
}
